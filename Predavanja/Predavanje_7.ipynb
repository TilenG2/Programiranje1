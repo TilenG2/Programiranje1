{
 "cells": [
  {
   "cell_type": "code",
   "execution_count": 1,
   "id": "828a901a",
   "metadata": {},
   "outputs": [],
   "source": [
    "k = [9, 16, 81, 25, 196]"
   ]
  },
  {
   "cell_type": "code",
   "execution_count": 2,
   "id": "227797b3",
   "metadata": {},
   "outputs": [],
   "source": [
    "from math import sqrt"
   ]
  },
  {
   "cell_type": "code",
   "execution_count": 3,
   "id": "66bb6dca",
   "metadata": {},
   "outputs": [
    {
     "data": {
      "text/plain": [
       "[3.0, 4.0, 9.0, 5.0, 14.0]"
      ]
     },
     "execution_count": 3,
     "metadata": {},
     "output_type": "execute_result"
    }
   ],
   "source": [
    "[sqrt(x) for x in k]"
   ]
  },
  {
   "cell_type": "code",
   "execution_count": 4,
   "id": "d19bb4a3",
   "metadata": {},
   "outputs": [],
   "source": [
    "imena = [\"ana\", \"berta\", \"cika\", \"dana\", \"ema\", \"fanči\"]"
   ]
  },
  {
   "cell_type": "code",
   "execution_count": 7,
   "id": "dcbb9c47",
   "metadata": {},
   "outputs": [
    {
     "data": {
      "text/plain": [
       "4.0"
      ]
     },
     "execution_count": 7,
     "metadata": {},
     "output_type": "execute_result"
    }
   ],
   "source": [
    "sum([len(ime) for ime in imena]) / len(imena)"
   ]
  },
  {
   "cell_type": "code",
   "execution_count": 8,
   "id": "cf3db3ef",
   "metadata": {},
   "outputs": [],
   "source": [
    "s = [[]] * 10 #10 istih seznamov bad"
   ]
  },
  {
   "cell_type": "code",
   "execution_count": 13,
   "id": "39836526",
   "metadata": {},
   "outputs": [],
   "source": [
    "s = [[] for _ in range(10)]"
   ]
  },
  {
   "cell_type": "code",
   "execution_count": 10,
   "id": "6b295b28",
   "metadata": {},
   "outputs": [
    {
     "data": {
      "text/plain": [
       "[[], [], [], [], [], [], [], [], [], []]"
      ]
     },
     "execution_count": 10,
     "metadata": {},
     "output_type": "execute_result"
    }
   ],
   "source": [
    "s"
   ]
  },
  {
   "cell_type": "code",
   "execution_count": 11,
   "id": "3196fbc0",
   "metadata": {},
   "outputs": [],
   "source": [
    "s[1].append(29)"
   ]
  },
  {
   "cell_type": "code",
   "execution_count": 12,
   "id": "1b3a32aa",
   "metadata": {},
   "outputs": [
    {
     "data": {
      "text/plain": [
       "[[], [29], [], [], [], [], [], [], [], []]"
      ]
     },
     "execution_count": 12,
     "metadata": {},
     "output_type": "execute_result"
    }
   ],
   "source": [
    "s"
   ]
  }
 ],
 "metadata": {
  "kernelspec": {
   "display_name": "Python 3 (ipykernel)",
   "language": "python",
   "name": "python3"
  },
  "language_info": {
   "codemirror_mode": {
    "name": "ipython",
    "version": 3
   },
   "file_extension": ".py",
   "mimetype": "text/x-python",
   "name": "python",
   "nbconvert_exporter": "python",
   "pygments_lexer": "ipython3",
   "version": "3.10.6"
  }
 },
 "nbformat": 4,
 "nbformat_minor": 5
}
