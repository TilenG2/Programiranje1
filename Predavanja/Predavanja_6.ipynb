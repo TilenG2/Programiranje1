{
 "cells": [
  {
   "cell_type": "code",
   "execution_count": 2,
   "id": "cc6e7158",
   "metadata": {},
   "outputs": [],
   "source": [
    "def funkcija(t):\n",
    "    return t[1][0]"
   ]
  },
  {
   "cell_type": "code",
   "execution_count": 3,
   "id": "c9cc4a3e",
   "metadata": {
    "scrolled": true
   },
   "outputs": [
    {
     "data": {
      "text/plain": [
       "<function __main__.<lambda>(t)>"
      ]
     },
     "execution_count": 3,
     "metadata": {},
     "output_type": "execute_result"
    }
   ],
   "source": [
    "lambda t: t[1][0]"
   ]
  },
  {
   "cell_type": "code",
   "execution_count": 4,
   "id": "e72978f9",
   "metadata": {},
   "outputs": [],
   "source": [
    "imena = [\"Ana\", \"Berta\", \"Cilka\", \"Dani\"]"
   ]
  },
  {
   "cell_type": "code",
   "execution_count": 6,
   "id": "5fb150b6",
   "metadata": {},
   "outputs": [
    {
     "data": {
      "text/plain": [
       "['Ana', 'Berta', 'Cilka', 'Dani']"
      ]
     },
     "execution_count": 6,
     "metadata": {},
     "output_type": "execute_result"
    }
   ],
   "source": [
    "imena"
   ]
  },
  {
   "cell_type": "code",
   "execution_count": 7,
   "id": "14b84391",
   "metadata": {},
   "outputs": [],
   "source": [
    "koordinate = [('Piran', (0, 0)), ('Koper', (8, 2)),\n",
    "              ('Ilirska Bistrica', (49, 5)), ('Postojna', (46, 29)),\n",
    "              ('Nova Gorica', (2, 48)), ('Ajdovščina', (24, 42)),\n",
    "              ('Idrija', (34, 54)), ('Logatec', (48, 46)),\n",
    "              ('Cerknica', (60, 31)), ('Vrhnika', (57, 51)),\n",
    "              ('Žiri', (39, 60)), ('Ljubljana', (68, 61)),\n",
    "              ('Ribnica', (87, 26)), ('Kočevje', (95, 15)),\n",
    "              ('Grosuplje', (82, 49)), ('Litija', (95, 61)),\n",
    "              ('Kranj', (58, 82)), ('Kamnik', (78, 80)),\n",
    "              ('Škofja Loka', (54, 73)), ('Trbovlje', (112, 71)),\n",
    "              ('Novo mesto', (119, 32)), ('Krško', (162, 56)),\n",
    "              ('Celje', (129, 80)), ('Maribor', (156, 117)),\n",
    "              ('Velenje', (117, 94)), ('Slovenska Bistrica', (150, 97)),\n",
    "              ('Murska Sobota', (196, 138)), ('Ptuj', (173, 102)),\n",
    "              ('Ormož', (196, 100)), ('Ljutomer', (199, 112)),\n",
    "              ('Gornja Radgona', (184, 139)),\n",
    "              ('Jesenice', (36, 102)),\n",
    "              (\"Kot pri Dramlju\", (119, -6))]"
   ]
  },
  {
   "cell_type": "code",
   "execution_count": 8,
   "id": "d2521d6b",
   "metadata": {},
   "outputs": [
    {
     "data": {
      "text/plain": [
       "[('Piran', (0, 0)),\n",
       " ('Koper', (8, 2)),\n",
       " ('Ilirska Bistrica', (49, 5)),\n",
       " ('Postojna', (46, 29)),\n",
       " ('Nova Gorica', (2, 48)),\n",
       " ('Ajdovščina', (24, 42)),\n",
       " ('Idrija', (34, 54)),\n",
       " ('Logatec', (48, 46)),\n",
       " ('Cerknica', (60, 31)),\n",
       " ('Vrhnika', (57, 51)),\n",
       " ('Žiri', (39, 60)),\n",
       " ('Ljubljana', (68, 61)),\n",
       " ('Ribnica', (87, 26)),\n",
       " ('Kočevje', (95, 15)),\n",
       " ('Grosuplje', (82, 49)),\n",
       " ('Litija', (95, 61)),\n",
       " ('Kranj', (58, 82)),\n",
       " ('Kamnik', (78, 80)),\n",
       " ('Škofja Loka', (54, 73)),\n",
       " ('Trbovlje', (112, 71)),\n",
       " ('Novo mesto', (119, 32)),\n",
       " ('Krško', (162, 56)),\n",
       " ('Celje', (129, 80)),\n",
       " ('Maribor', (156, 117)),\n",
       " ('Velenje', (117, 94)),\n",
       " ('Slovenska Bistrica', (150, 97)),\n",
       " ('Murska Sobota', (196, 138)),\n",
       " ('Ptuj', (173, 102)),\n",
       " ('Ormož', (196, 100)),\n",
       " ('Ljutomer', (199, 112)),\n",
       " ('Gornja Radgona', (184, 139)),\n",
       " ('Jesenice', (36, 102)),\n",
       " ('Kot pri Dramlju', (119, -6))]"
      ]
     },
     "execution_count": 8,
     "metadata": {},
     "output_type": "execute_result"
    }
   ],
   "source": [
    "koordinate"
   ]
  },
  {
   "cell_type": "code",
   "execution_count": null,
   "id": "1ab65633",
   "metadata": {},
   "outputs": [],
   "source": []
  },
  {
   "cell_type": "markdown",
   "id": "2b2798f1",
   "metadata": {},
   "source": [
    "SEZNAMI"
   ]
  },
  {
   "cell_type": "code",
   "execution_count": 9,
   "id": "5f889c84",
   "metadata": {},
   "outputs": [],
   "source": [
    "kord = {\n",
    "        'Piran': (0, 0),\n",
    "        'Koper': (8, 2),\n",
    "        'Ilirska Bistrica': (49, 5),\n",
    "        'Postojna': (46, 29),\n",
    "        'Nova Gorica': (2, 48),\n",
    "        'Ajdovščina': (24, 42),\n",
    "}"
   ]
  },
  {
   "cell_type": "code",
   "execution_count": 11,
   "id": "b9f4d364",
   "metadata": {},
   "outputs": [
    {
     "data": {
      "text/plain": [
       "(0, 0)"
      ]
     },
     "execution_count": 11,
     "metadata": {},
     "output_type": "execute_result"
    }
   ],
   "source": [
    "kord[\"Piran\"]"
   ]
  },
  {
   "cell_type": "code",
   "execution_count": 12,
   "id": "effb7363",
   "metadata": {},
   "outputs": [
    {
     "data": {
      "text/plain": [
       "True"
      ]
     },
     "execution_count": 12,
     "metadata": {},
     "output_type": "execute_result"
    }
   ],
   "source": [
    "\"Koper\" in kord"
   ]
  },
  {
   "cell_type": "code",
   "execution_count": 14,
   "id": "876c203f",
   "metadata": {},
   "outputs": [],
   "source": [
    "del kord[\"Nova Gorica\"]"
   ]
  },
  {
   "cell_type": "code",
   "execution_count": 15,
   "id": "9dcddd38",
   "metadata": {},
   "outputs": [],
   "source": [
    "kord[\"Nova Gorica\"] = (2, 48)"
   ]
  },
  {
   "cell_type": "code",
   "execution_count": 16,
   "id": "1b9d7d72",
   "metadata": {},
   "outputs": [
    {
     "name": "stdout",
     "output_type": "stream",
     "text": [
      "Piran\n",
      "Koper\n",
      "Ilirska Bistrica\n",
      "Postojna\n",
      "Ajdovščina\n",
      "Nova Gorica\n"
     ]
    }
   ],
   "source": [
    "for kraj in kord:\n",
    "    print(kraj)\n"
   ]
  },
  {
   "cell_type": "code",
   "execution_count": 17,
   "id": "93bb8b39",
   "metadata": {},
   "outputs": [
    {
     "name": "stdout",
     "output_type": "stream",
     "text": [
      "(0, 0)\n",
      "(8, 2)\n",
      "(49, 5)\n",
      "(46, 29)\n",
      "(24, 42)\n",
      "(2, 48)\n"
     ]
    }
   ],
   "source": [
    "for xy in kord.values():\n",
    "    print(xy)"
   ]
  },
  {
   "cell_type": "code",
   "execution_count": 18,
   "id": "620845df",
   "metadata": {},
   "outputs": [
    {
     "name": "stdout",
     "output_type": "stream",
     "text": [
      "('Piran', (0, 0))\n",
      "('Koper', (8, 2))\n",
      "('Ilirska Bistrica', (49, 5))\n",
      "('Postojna', (46, 29))\n",
      "('Ajdovščina', (24, 42))\n",
      "('Nova Gorica', (2, 48))\n"
     ]
    }
   ],
   "source": [
    "for krajxy in kord.items():\n",
    "    print(krajxy)"
   ]
  },
  {
   "cell_type": "code",
   "execution_count": 24,
   "id": "c269ec2b",
   "metadata": {},
   "outputs": [
    {
     "data": {
      "text/plain": [
       "{'Piran': (0, 0),\n",
       " 'Koper': (8, 2),\n",
       " 'Ilirska Bistrica': (49, 5),\n",
       " 'Postojna': (46, 29),\n",
       " 'Ajdovščina': (24, 42),\n",
       " 'Nova Gorica': (2, 48)}"
      ]
     },
     "execution_count": 24,
     "metadata": {},
     "output_type": "execute_result"
    }
   ],
   "source": [
    "kopijaKoord = kord.copy()\n",
    "kopijaKoord"
   ]
  },
  {
   "cell_type": "code",
   "execution_count": 23,
   "id": "db39e576",
   "metadata": {},
   "outputs": [
    {
     "data": {
      "text/plain": [
       "{}"
      ]
     },
     "execution_count": 23,
     "metadata": {},
     "output_type": "execute_result"
    }
   ],
   "source": [
    "kopijaKoord.clear()\n",
    "kopijaKoord"
   ]
  },
  {
   "cell_type": "code",
   "execution_count": 25,
   "id": "4de9a819",
   "metadata": {},
   "outputs": [
    {
     "ename": "KeyError",
     "evalue": "'Metlika'",
     "output_type": "error",
     "traceback": [
      "\u001b[0;31m---------------------------------------------------------------------------\u001b[0m",
      "\u001b[0;31mKeyError\u001b[0m                                  Traceback (most recent call last)",
      "Cell \u001b[0;32mIn [25], line 1\u001b[0m\n\u001b[0;32m----> 1\u001b[0m x, y \u001b[38;5;241m=\u001b[39m \u001b[43mkord\u001b[49m\u001b[43m[\u001b[49m\u001b[38;5;124;43m\"\u001b[39;49m\u001b[38;5;124;43mMetlika\u001b[39;49m\u001b[38;5;124;43m\"\u001b[39;49m\u001b[43m]\u001b[49m\n",
      "\u001b[0;31mKeyError\u001b[0m: 'Metlika'"
     ]
    }
   ],
   "source": [
    "x, y = kord[\"Metlika\"]"
   ]
  },
  {
   "cell_type": "markdown",
   "id": "b8344012",
   "metadata": {},
   "source": [
    "GET mislslis da kraja in in vedno vracas neko dafault verednost\n",
    "(42, 42) v tem primeru"
   ]
  },
  {
   "cell_type": "code",
   "execution_count": null,
   "id": "cb6b97f5",
   "metadata": {},
   "outputs": [],
   "source": [
    "x, y = kord.get(\"Metlika\", (42, 42))"
   ]
  },
  {
   "cell_type": "code",
   "execution_count": 27,
   "id": "5da28358",
   "metadata": {},
   "outputs": [
    {
     "data": {
      "text/plain": [
       "42"
      ]
     },
     "execution_count": 27,
     "metadata": {},
     "output_type": "execute_result"
    }
   ],
   "source": [
    "x"
   ]
  },
  {
   "cell_type": "code",
   "execution_count": 28,
   "id": "6a0150ac",
   "metadata": {},
   "outputs": [
    {
     "data": {
      "text/plain": [
       "42"
      ]
     },
     "execution_count": 28,
     "metadata": {},
     "output_type": "execute_result"
    }
   ],
   "source": [
    "y"
   ]
  },
  {
   "cell_type": "code",
   "execution_count": 29,
   "id": "e4b71ef0",
   "metadata": {},
   "outputs": [
    {
     "data": {
      "text/plain": [
       "(42, 42)"
      ]
     },
     "execution_count": 29,
     "metadata": {},
     "output_type": "execute_result"
    }
   ],
   "source": [
    "kord.setdefault(\"Metlika\", (42, 42))"
   ]
  },
  {
   "cell_type": "code",
   "execution_count": 31,
   "id": "1d2fb666",
   "metadata": {},
   "outputs": [
    {
     "data": {
      "text/plain": [
       "(8, 2)"
      ]
     },
     "execution_count": 31,
     "metadata": {},
     "output_type": "execute_result"
    }
   ],
   "source": [
    "kord.setdefault(\"Koper\", (42, 42))"
   ]
  },
  {
   "cell_type": "code",
   "execution_count": 34,
   "id": "94563b86",
   "metadata": {},
   "outputs": [
    {
     "data": {
      "text/plain": [
       "{'Piran': (0, 0),\n",
       " 'Koper': (8, 2),\n",
       " 'Ilirska Bistrica': (49, 5),\n",
       " 'Postojna': (46, 29),\n",
       " 'Ajdovščina': (24, 42),\n",
       " 'Nova Gorica': (2, 48),\n",
       " 'Metlika': (42, 42)}"
      ]
     },
     "execution_count": 34,
     "metadata": {},
     "output_type": "execute_result"
    }
   ],
   "source": [
    "kord"
   ]
  },
  {
   "cell_type": "code",
   "execution_count": 35,
   "id": "bf70b4ca",
   "metadata": {},
   "outputs": [
    {
     "data": {
      "text/plain": [
       "['Ana', 'Berta', 'Cilka', 'Dani']"
      ]
     },
     "execution_count": 35,
     "metadata": {},
     "output_type": "execute_result"
    }
   ],
   "source": [
    "imena"
   ]
  },
  {
   "cell_type": "code",
   "execution_count": 37,
   "id": "21aceed8",
   "metadata": {},
   "outputs": [
    {
     "data": {
      "text/plain": [
       "[1, 2, 3, 4]"
      ]
     },
     "execution_count": 37,
     "metadata": {},
     "output_type": "execute_result"
    }
   ],
   "source": [
    "teza"
   ]
  },
  {
   "cell_type": "code",
   "execution_count": 43,
   "id": "17fe4233",
   "metadata": {},
   "outputs": [
    {
     "data": {
      "text/plain": [
       "{'Ana': None, 'Berta': None, 'Cilka': None, 'Dani': None}"
      ]
     },
     "execution_count": 43,
     "metadata": {},
     "output_type": "execute_result"
    }
   ],
   "source": [
    "dict.fromkeys(imena, None)"
   ]
  },
  {
   "cell_type": "code",
   "execution_count": 38,
   "id": "fe455f87",
   "metadata": {},
   "outputs": [
    {
     "data": {
      "text/plain": [
       "{'Ana': 1, 'Berta': 2, 'Cilka': 3, 'Dani': 4}"
      ]
     },
     "execution_count": 38,
     "metadata": {},
     "output_type": "execute_result"
    }
   ],
   "source": [
    "dict(zip(imena, teza))"
   ]
  },
  {
   "cell_type": "code",
   "execution_count": 39,
   "id": "f4d09d21",
   "metadata": {},
   "outputs": [
    {
     "data": {
      "text/plain": [
       "{'x': 6, 'y': 7}"
      ]
     },
     "execution_count": 39,
     "metadata": {},
     "output_type": "execute_result"
    }
   ],
   "source": [
    "dict(x=6, y=7)"
   ]
  },
  {
   "cell_type": "code",
   "execution_count": 52,
   "id": "446ff87d",
   "metadata": {},
   "outputs": [],
   "source": [
    "from collections import defaultdict\n",
    "t =[(1,2),(1,3),(1,4),(4,5),(4,5),(5,6)]\n",
    "d = defaultdict(list)\n",
    "for x, y in t:\n",
    "    d[x].append(y)"
   ]
  },
  {
   "cell_type": "code",
   "execution_count": 53,
   "id": "1aa54e78",
   "metadata": {},
   "outputs": [
    {
     "data": {
      "text/plain": [
       "defaultdict(list, {1: [2, 3, 4], 4: [5, 5], 5: [6]})"
      ]
     },
     "execution_count": 53,
     "metadata": {},
     "output_type": "execute_result"
    }
   ],
   "source": [
    "d"
   ]
  },
  {
   "cell_type": "markdown",
   "id": "b4bd2b70",
   "metadata": {},
   "source": [
    "MNOZICE"
   ]
  },
  {
   "cell_type": "code",
   "execution_count": 54,
   "id": "00cdfb9b",
   "metadata": {},
   "outputs": [],
   "source": [
    "m = {\"Ana\", \"Cilka\", \"Dani\"}\n",
    "n = {\"Cilka\", \"Berta\"}\n",
    "o = {\"Ana\", \"Dani\"}"
   ]
  },
  {
   "cell_type": "code",
   "execution_count": 55,
   "id": "9d09a36f",
   "metadata": {},
   "outputs": [],
   "source": [
    "p = set()"
   ]
  },
  {
   "cell_type": "code",
   "execution_count": 56,
   "id": "3de51264",
   "metadata": {},
   "outputs": [
    {
     "data": {
      "text/plain": [
       "3"
      ]
     },
     "execution_count": 56,
     "metadata": {},
     "output_type": "execute_result"
    }
   ],
   "source": [
    "len(m)"
   ]
  },
  {
   "cell_type": "code",
   "execution_count": 57,
   "id": "99e9e2bf",
   "metadata": {},
   "outputs": [
    {
     "data": {
      "text/plain": [
       "{'Ana', 'Berta', 'Cilka', 'Dani'}"
      ]
     },
     "execution_count": 57,
     "metadata": {},
     "output_type": "execute_result"
    }
   ],
   "source": [
    "m | n #Unija"
   ]
  },
  {
   "cell_type": "code",
   "execution_count": 58,
   "id": "eca908bc",
   "metadata": {},
   "outputs": [
    {
     "data": {
      "text/plain": [
       "{'Cilka'}"
      ]
     },
     "execution_count": 58,
     "metadata": {},
     "output_type": "execute_result"
    }
   ],
   "source": [
    "m & n #Presek"
   ]
  },
  {
   "cell_type": "code",
   "execution_count": 59,
   "id": "9232f0bb",
   "metadata": {},
   "outputs": [
    {
     "data": {
      "text/plain": [
       "{'Ana', 'Dani'}"
      ]
     },
     "execution_count": 59,
     "metadata": {},
     "output_type": "execute_result"
    }
   ],
   "source": [
    "m - n #od m odsteti n"
   ]
  },
  {
   "cell_type": "code",
   "execution_count": 60,
   "id": "0eae6ac1",
   "metadata": {},
   "outputs": [
    {
     "data": {
      "text/plain": [
       "['Ana', 'Berta', 'Cilka', 'Dani']"
      ]
     },
     "execution_count": 60,
     "metadata": {},
     "output_type": "execute_result"
    }
   ],
   "source": [
    "imena"
   ]
  },
  {
   "cell_type": "code",
   "execution_count": 61,
   "id": "89e55c87",
   "metadata": {},
   "outputs": [],
   "source": [
    "imena2 = ['Berta', 'Dani', 'Ema']"
   ]
  },
  {
   "cell_type": "code",
   "execution_count": 62,
   "id": "38eb6d9e",
   "metadata": {},
   "outputs": [
    {
     "data": {
      "text/plain": [
       "{'Ana', 'Berta', 'Cilka', 'Dani'}"
      ]
     },
     "execution_count": 62,
     "metadata": {},
     "output_type": "execute_result"
    }
   ],
   "source": [
    "set(imena)"
   ]
  },
  {
   "cell_type": "code",
   "execution_count": 63,
   "id": "a3924fb1",
   "metadata": {},
   "outputs": [
    {
     "data": {
      "text/plain": [
       "{'Ana', 'Berta', 'Cilka', 'Dani', 'Ema'}"
      ]
     },
     "execution_count": 63,
     "metadata": {},
     "output_type": "execute_result"
    }
   ],
   "source": [
    "set(imena) | set(imena2)"
   ]
  },
  {
   "cell_type": "code",
   "execution_count": null,
   "id": "70b00f0c",
   "metadata": {},
   "outputs": [],
   "source": [
    "m = {\"Ana\", \"Cilka\", \"Dani\"}\n",
    "n = {\"Cilka\", \"Berta\"}\n",
    "o = {\"Ana\", \"Dani\"}"
   ]
  },
  {
   "cell_type": "code",
   "execution_count": 65,
   "id": "a3a72225",
   "metadata": {},
   "outputs": [
    {
     "data": {
      "text/plain": [
       "True"
      ]
     },
     "execution_count": 65,
     "metadata": {},
     "output_type": "execute_result"
    }
   ],
   "source": [
    "o < m"
   ]
  },
  {
   "cell_type": "code",
   "execution_count": 66,
   "id": "b3fa00f5",
   "metadata": {},
   "outputs": [
    {
     "data": {
      "text/plain": [
       "True"
      ]
     },
     "execution_count": 66,
     "metadata": {},
     "output_type": "execute_result"
    }
   ],
   "source": [
    "m <= m"
   ]
  },
  {
   "cell_type": "code",
   "execution_count": null,
   "id": "c7c4e14b",
   "metadata": {},
   "outputs": [],
   "source": []
  }
 ],
 "metadata": {
  "kernelspec": {
   "display_name": "Python 3 (ipykernel)",
   "language": "python",
   "name": "python3"
  },
  "language_info": {
   "codemirror_mode": {
    "name": "ipython",
    "version": 3
   },
   "file_extension": ".py",
   "mimetype": "text/x-python",
   "name": "python",
   "nbconvert_exporter": "python",
   "pygments_lexer": "ipython3",
   "version": "3.10.6"
  }
 },
 "nbformat": 4,
 "nbformat_minor": 5
}
