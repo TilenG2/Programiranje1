{
 "cells": [
  {
   "cell_type": "code",
   "execution_count": 1,
   "id": "72583d63",
   "metadata": {},
   "outputs": [],
   "source": [
    "k = [9, 16, 81, 25, 196]"
   ]
  },
  {
   "cell_type": "code",
   "execution_count": 2,
   "id": "fade3e8a",
   "metadata": {},
   "outputs": [],
   "source": [
    "from math import sqrt"
   ]
  },
  {
   "cell_type": "code",
   "execution_count": 3,
   "id": "f08083e8",
   "metadata": {},
   "outputs": [
    {
     "data": {
      "text/plain": [
       "[3.0, 4.0, 9.0, 5.0, 14.0]"
      ]
     },
     "execution_count": 3,
     "metadata": {},
     "output_type": "execute_result"
    }
   ],
   "source": [
    "[sqrt(x) for x in k]"
   ]
  },
  {
   "cell_type": "code",
   "execution_count": 4,
   "id": "11769b16",
   "metadata": {},
   "outputs": [],
   "source": [
    "imena = [\"ana\", \"berta\", \"cika\", \"dana\", \"ema\", \"fanči\"]"
   ]
  },
  {
   "cell_type": "code",
   "execution_count": 7,
   "id": "134024bb",
   "metadata": {},
   "outputs": [
    {
     "data": {
      "text/plain": [
       "4.0"
      ]
     },
     "execution_count": 7,
     "metadata": {},
     "output_type": "execute_result"
    }
   ],
   "source": [
    "sum([len(ime) for ime in imena]) / len(imena)"
   ]
  },
  {
   "cell_type": "code",
   "execution_count": 8,
   "id": "205fddb8",
   "metadata": {},
   "outputs": [],
   "source": [
    "s = [[]] * 10 #10 istih seznamov bad"
   ]
  },
  {
   "cell_type": "code",
   "execution_count": 9,
   "id": "04162b9b",
   "metadata": {},
   "outputs": [],
   "source": [
    "s = [[] for i in range(10)]"
   ]
  },
  {
   "cell_type": "code",
   "execution_count": null,
   "id": "cb235f33",
   "metadata": {},
   "outputs": [],
   "source": []
  }
 ],
 "metadata": {
  "kernelspec": {
   "display_name": "Python 3 (ipykernel)",
   "language": "python",
   "name": "python3"
  },
  "language_info": {
   "codemirror_mode": {
    "name": "ipython",
    "version": 3
   },
   "file_extension": ".py",
   "mimetype": "text/x-python",
   "name": "python",
   "nbconvert_exporter": "python",
   "pygments_lexer": "ipython3",
   "version": "3.10.6"
  }
 },
 "nbformat": 4,
 "nbformat_minor": 5
}
