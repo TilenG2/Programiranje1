{
 "cells": [
  {
   "cell_type": "code",
   "execution_count": 1,
   "id": "fa1bc50f",
   "metadata": {},
   "outputs": [],
   "source": [
    "k = [9, 16, 81, 25, 196]"
   ]
  },
  {
   "cell_type": "code",
   "execution_count": 2,
   "id": "67dc71f4",
   "metadata": {},
   "outputs": [],
   "source": [
    "from math import sqrt"
   ]
  },
  {
   "cell_type": "code",
   "execution_count": 3,
   "id": "84a158f1",
   "metadata": {},
   "outputs": [
    {
     "data": {
      "text/plain": [
       "[3.0, 4.0, 9.0, 5.0, 14.0]"
      ]
     },
     "execution_count": 3,
     "metadata": {},
     "output_type": "execute_result"
    }
   ],
   "source": [
    "[sqrt(x) for x in k]"
   ]
  },
  {
   "cell_type": "code",
   "execution_count": 4,
   "id": "fb8415e0",
   "metadata": {},
   "outputs": [],
   "source": [
    "imena = [\"ana\", \"berta\", \"cika\", \"dana\", \"ema\", \"fanči\"]"
   ]
  },
  {
   "cell_type": "code",
   "execution_count": 7,
   "id": "b54d31c4",
   "metadata": {},
   "outputs": [
    {
     "data": {
      "text/plain": [
       "4.0"
      ]
     },
     "execution_count": 7,
     "metadata": {},
     "output_type": "execute_result"
    }
   ],
   "source": [
    "sum([len(ime) for ime in imena]) / len(imena)"
   ]
  },
  {
   "cell_type": "code",
   "execution_count": 8,
   "id": "7d3ef0e3",
   "metadata": {},
   "outputs": [],
   "source": [
    "s = [[]] * 10 #10 istih seznamov bad"
   ]
  },
  {
   "cell_type": "code",
   "execution_count": 13,
   "id": "f8e6967c",
   "metadata": {},
   "outputs": [],
   "source": [
    "s = [[] for _ in range(10)]"
   ]
  },
  {
   "cell_type": "code",
   "execution_count": 10,
   "id": "8754b499",
   "metadata": {},
   "outputs": [
    {
     "data": {
      "text/plain": [
       "[[], [], [], [], [], [], [], [], [], []]"
      ]
     },
     "execution_count": 10,
     "metadata": {},
     "output_type": "execute_result"
    }
   ],
   "source": [
    "s"
   ]
  },
  {
   "cell_type": "code",
   "execution_count": 11,
   "id": "a76c250b",
   "metadata": {},
   "outputs": [],
   "source": [
    "s[1].append(29)"
   ]
  },
  {
   "cell_type": "code",
   "execution_count": 12,
   "id": "c226f393",
   "metadata": {},
   "outputs": [
    {
     "data": {
      "text/plain": [
       "[[], [29], [], [], [], [], [], [], [], []]"
      ]
     },
     "execution_count": 12,
     "metadata": {},
     "output_type": "execute_result"
    }
   ],
   "source": [
    "s"
   ]
  },
  {
   "cell_type": "code",
   "execution_count": 14,
   "id": "b33c3e7f",
   "metadata": {},
   "outputs": [],
   "source": [
    "podatki = [\n",
    "    (74, \"Anže\", False),\n",
    "    (82, \"Benjamin\", False),\n",
    "    (58, \"Cilka\", True),\n",
    "    (66, \"Dani\", False),\n",
    "    (61, \"Eva\", True),\n",
    "    (84, \"Franc\", False)]"
   ]
  },
  {
   "cell_type": "code",
   "execution_count": 15,
   "id": "c0904afd",
   "metadata": {},
   "outputs": [
    {
     "data": {
      "text/plain": [
       "76.5"
      ]
     },
     "execution_count": 15,
     "metadata": {},
     "output_type": "execute_result"
    }
   ],
   "source": [
    "sum([teza for teza, _, _ in podatki if teza > 65]) / len([teza for teza, _, _ in podatki if teza > 65]) "
   ]
  },
  {
   "cell_type": "code",
   "execution_count": 16,
   "id": "7da23d64",
   "metadata": {},
   "outputs": [
    {
     "data": {
      "text/plain": [
       "76.5"
      ]
     },
     "execution_count": 16,
     "metadata": {},
     "output_type": "execute_result"
    }
   ],
   "source": [
    "sum([teza for teza, _, _ in podatki if teza > 65]) / sum([teza > 65 for teza, _, _ in podatki])"
   ]
  },
  {
   "cell_type": "code",
   "execution_count": 17,
   "id": "27b41ef9",
   "metadata": {},
   "outputs": [
    {
     "data": {
      "text/plain": [
       "[74, 82, 66, 84]"
      ]
     },
     "execution_count": 17,
     "metadata": {},
     "output_type": "execute_result"
    }
   ],
   "source": [
    "[teza for teza, _, _ in podatki if teza > 65]"
   ]
  },
  {
   "cell_type": "code",
   "execution_count": 20,
   "id": "b78a792a",
   "metadata": {},
   "outputs": [
    {
     "name": "stdout",
     "output_type": "stream",
     "text": [
      "[74, 82, 66, 84]\n"
     ]
    }
   ],
   "source": [
    "teze = []\n",
    "for teza, _, _ in podatki:\n",
    "    if teza > 65:\n",
    "        teze.append(teza)\n",
    "print(teze)"
   ]
  },
  {
   "cell_type": "code",
   "execution_count": 21,
   "id": "395fcb8d",
   "metadata": {},
   "outputs": [],
   "source": [
    "def delitelji(n):\n",
    "    return [x for x in  range(1, n+1) if n % x == 0]"
   ]
  },
  {
   "cell_type": "code",
   "execution_count": 22,
   "id": "14ceca2e",
   "metadata": {},
   "outputs": [
    {
     "data": {
      "text/plain": [
       "[1, 2, 5, 10]"
      ]
     },
     "execution_count": 22,
     "metadata": {},
     "output_type": "execute_result"
    }
   ],
   "source": [
    "delitelji(10)"
   ]
  },
  {
   "cell_type": "code",
   "execution_count": 23,
   "id": "dea64754",
   "metadata": {},
   "outputs": [
    {
     "data": {
      "text/plain": [
       "True"
      ]
     },
     "execution_count": 23,
     "metadata": {},
     "output_type": "execute_result"
    }
   ],
   "source": [
    "all([True, True, True, True])"
   ]
  },
  {
   "cell_type": "code",
   "execution_count": 24,
   "id": "635075b7",
   "metadata": {},
   "outputs": [
    {
     "data": {
      "text/plain": [
       "False"
      ]
     },
     "execution_count": 24,
     "metadata": {},
     "output_type": "execute_result"
    }
   ],
   "source": [
    "all([True, True, True, False])"
   ]
  },
  {
   "cell_type": "code",
   "execution_count": 26,
   "id": "c05a5904",
   "metadata": {},
   "outputs": [
    {
     "data": {
      "text/plain": [
       "True"
      ]
     },
     "execution_count": 26,
     "metadata": {},
     "output_type": "execute_result"
    }
   ],
   "source": [
    "x = 13\n",
    "all([x % i != 0 for i in range(2, x)])"
   ]
  },
  {
   "cell_type": "code",
   "execution_count": 27,
   "id": "6ec15141",
   "metadata": {},
   "outputs": [
    {
     "data": {
      "text/plain": [
       "False"
      ]
     },
     "execution_count": 27,
     "metadata": {},
     "output_type": "execute_result"
    }
   ],
   "source": [
    "any([False, False, False, False])"
   ]
  },
  {
   "cell_type": "code",
   "execution_count": 28,
   "id": "c8bd7d01",
   "metadata": {},
   "outputs": [
    {
     "data": {
      "text/plain": [
       "True"
      ]
     },
     "execution_count": 28,
     "metadata": {},
     "output_type": "execute_result"
    }
   ],
   "source": [
    "any([False, True, False, False])"
   ]
  },
  {
   "cell_type": "code",
   "execution_count": 31,
   "id": "4f0c2d91",
   "metadata": {},
   "outputs": [
    {
     "data": {
      "text/plain": [
       "[1, 2, 4, 5, 10, 20, 25, 50, 100]"
      ]
     },
     "execution_count": 31,
     "metadata": {},
     "output_type": "execute_result"
    }
   ],
   "source": [
    "[x for x in range(1, 101) if 100 % x == 0]"
   ]
  },
  {
   "cell_type": "code",
   "execution_count": 32,
   "id": "3fbca89c",
   "metadata": {},
   "outputs": [
    {
     "data": {
      "text/plain": [
       "{1, 2, 4, 5, 10, 20, 25, 50, 100}"
      ]
     },
     "execution_count": 32,
     "metadata": {},
     "output_type": "execute_result"
    }
   ],
   "source": [
    "{x for x in range(1, 101) if 100 % x == 0}"
   ]
  },
  {
   "cell_type": "code",
   "execution_count": 33,
   "id": "2c302057",
   "metadata": {},
   "outputs": [],
   "source": [
    "s = \"MELODIJA\"\n",
    "t = \"DELODAJALEC\""
   ]
  },
  {
   "cell_type": "markdown",
   "id": "748704fc",
   "metadata": {},
   "source": [
    "prestej v koliko crkah se ujemata"
   ]
  },
  {
   "cell_type": "code",
   "execution_count": 35,
   "id": "bd59afce",
   "metadata": {},
   "outputs": [
    {
     "data": {
      "text/plain": [
       "6"
      ]
     },
     "execution_count": 35,
     "metadata": {},
     "output_type": "execute_result"
    }
   ],
   "source": [
    "sum([s1 == s2 for s1, s2 in zip(t, s)])"
   ]
  },
  {
   "cell_type": "code",
   "execution_count": 36,
   "id": "07f23680",
   "metadata": {},
   "outputs": [],
   "source": [
    "crke = {\"A\", \"E\", \"D\"}"
   ]
  },
  {
   "cell_type": "code",
   "execution_count": 39,
   "id": "fce65098",
   "metadata": {},
   "outputs": [
    {
     "data": {
      "text/plain": [
       "['D', 'E', '_', '_', 'D', 'A', '_', 'A', '_', 'E', '_']"
      ]
     },
     "execution_count": 39,
     "metadata": {},
     "output_type": "execute_result"
    }
   ],
   "source": [
    "[c if c in crke else \"_\" for c in t] "
   ]
  },
  {
   "cell_type": "code",
   "execution_count": 40,
   "id": "e3d71149",
   "metadata": {},
   "outputs": [
    {
     "data": {
      "text/plain": [
       "13"
      ]
     },
     "execution_count": 40,
     "metadata": {},
     "output_type": "execute_result"
    }
   ],
   "source": [
    "x"
   ]
  },
  {
   "cell_type": "code",
   "execution_count": 41,
   "id": "f8e85cbc",
   "metadata": {},
   "outputs": [
    {
     "data": {
      "text/plain": [
       "'veliko'"
      ]
     },
     "execution_count": 41,
     "metadata": {},
     "output_type": "execute_result"
    }
   ],
   "source": [
    "\"veliko\" if x > 10 else \"malo\""
   ]
  },
  {
   "cell_type": "code",
   "execution_count": 44,
   "id": "0e51208c",
   "metadata": {},
   "outputs": [],
   "source": [
    "    #  01234567\n",
    "on  = \"berjamit\"\n",
    "ona = \"margameta\""
   ]
  },
  {
   "cell_type": "code",
   "execution_count": 45,
   "id": "012b9e84",
   "metadata": {},
   "outputs": [
    {
     "data": {
      "text/plain": [
       "[2, 4, 5, 7]"
      ]
     },
     "execution_count": 45,
     "metadata": {},
     "output_type": "execute_result"
    }
   ],
   "source": [
    "[x for x, (crk, crka) in enumerate(zip(on, ona)) if crk == crka]"
   ]
  },
  {
   "cell_type": "code",
   "execution_count": 48,
   "id": "7c9d06d5",
   "metadata": {},
   "outputs": [
    {
     "data": {
      "text/plain": [
       "[3, 5, 6, 8]"
      ]
     },
     "execution_count": 48,
     "metadata": {},
     "output_type": "execute_result"
    }
   ],
   "source": [
    "from itertools import count\n",
    "[x for x, crk, crka in zip(count(1), on, ona) if crk == crka]"
   ]
  },
  {
   "cell_type": "code",
   "execution_count": 51,
   "id": "95675227",
   "metadata": {},
   "outputs": [
    {
     "data": {
      "text/plain": [
       "[1, 2, 3, 4, 5, 6, '7', '8', '9']"
      ]
     },
     "execution_count": 51,
     "metadata": {},
     "output_type": "execute_result"
    }
   ],
   "source": [
    "from itertools import chain\n",
    "list(chain([1,2,3], (4,5,6), \"789\"))"
   ]
  },
  {
   "cell_type": "markdown",
   "id": "2a5eee64",
   "metadata": {},
   "source": [
    "Generator"
   ]
  },
  {
   "cell_type": "code",
   "execution_count": 52,
   "id": "682035ba",
   "metadata": {},
   "outputs": [],
   "source": [
    "g = (x ** 2 for x in range(5))"
   ]
  },
  {
   "cell_type": "code",
   "execution_count": 53,
   "id": "13194616",
   "metadata": {},
   "outputs": [
    {
     "data": {
      "text/plain": [
       "0"
      ]
     },
     "execution_count": 53,
     "metadata": {},
     "output_type": "execute_result"
    }
   ],
   "source": [
    "next(g)"
   ]
  },
  {
   "cell_type": "code",
   "execution_count": 54,
   "id": "e87ed4d7",
   "metadata": {},
   "outputs": [
    {
     "data": {
      "text/plain": [
       "1"
      ]
     },
     "execution_count": 54,
     "metadata": {},
     "output_type": "execute_result"
    }
   ],
   "source": [
    "next(g)"
   ]
  },
  {
   "cell_type": "code",
   "execution_count": 55,
   "id": "c5157f9f",
   "metadata": {},
   "outputs": [
    {
     "data": {
      "text/plain": [
       "4"
      ]
     },
     "execution_count": 55,
     "metadata": {},
     "output_type": "execute_result"
    }
   ],
   "source": [
    "next(g)"
   ]
  },
  {
   "cell_type": "code",
   "execution_count": 56,
   "id": "63d43baf",
   "metadata": {},
   "outputs": [
    {
     "data": {
      "text/plain": [
       "9"
      ]
     },
     "execution_count": 56,
     "metadata": {},
     "output_type": "execute_result"
    }
   ],
   "source": [
    "next(g)"
   ]
  },
  {
   "cell_type": "code",
   "execution_count": 57,
   "id": "c2fcb485",
   "metadata": {},
   "outputs": [
    {
     "data": {
      "text/plain": [
       "16"
      ]
     },
     "execution_count": 57,
     "metadata": {},
     "output_type": "execute_result"
    }
   ],
   "source": [
    "next(g)"
   ]
  },
  {
   "cell_type": "code",
   "execution_count": 58,
   "id": "56e724e3",
   "metadata": {},
   "outputs": [
    {
     "ename": "StopIteration",
     "evalue": "",
     "output_type": "error",
     "traceback": [
      "\u001b[0;31m---------------------------------------------------------------------------\u001b[0m",
      "\u001b[0;31mStopIteration\u001b[0m                             Traceback (most recent call last)",
      "Cell \u001b[0;32mIn [58], line 1\u001b[0m\n\u001b[0;32m----> 1\u001b[0m \u001b[38;5;28;43mnext\u001b[39;49m\u001b[43m(\u001b[49m\u001b[43mg\u001b[49m\u001b[43m)\u001b[49m\n",
      "\u001b[0;31mStopIteration\u001b[0m: "
     ]
    }
   ],
   "source": [
    "next(g)"
   ]
  },
  {
   "cell_type": "code",
   "execution_count": 59,
   "id": "661caa72",
   "metadata": {},
   "outputs": [],
   "source": [
    "#(x ** 2 for x in range(5)) naredi generator ki se sproti izmisli zmisli vrednosti"
   ]
  },
  {
   "cell_type": "code",
   "execution_count": 60,
   "id": "3f06f1d1",
   "metadata": {},
   "outputs": [],
   "source": [
    "#[x ** 2 for x in range(5)] naredi seznam."
   ]
  },
  {
   "cell_type": "code",
   "execution_count": null,
   "id": "91cc7ca5",
   "metadata": {},
   "outputs": [],
   "source": []
  }
 ],
 "metadata": {
  "kernelspec": {
   "display_name": "Python 3 (ipykernel)",
   "language": "python",
   "name": "python3"
  },
  "language_info": {
   "codemirror_mode": {
    "name": "ipython",
    "version": 3
   },
   "file_extension": ".py",
   "mimetype": "text/x-python",
   "name": "python",
   "nbconvert_exporter": "python",
   "pygments_lexer": "ipython3",
   "version": "3.10.6"
  }
 },
 "nbformat": 4,
 "nbformat_minor": 5
}
