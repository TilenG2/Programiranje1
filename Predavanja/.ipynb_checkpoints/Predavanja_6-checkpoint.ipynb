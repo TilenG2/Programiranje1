{
 "cells": [
  {
   "cell_type": "code",
   "execution_count": 2,
   "id": "780e9c06",
   "metadata": {},
   "outputs": [],
   "source": [
    "def funkcija(t):\n",
    "    return t[1][0]"
   ]
  },
  {
   "cell_type": "code",
   "execution_count": 3,
   "id": "f425b30a",
   "metadata": {
    "scrolled": true
   },
   "outputs": [
    {
     "data": {
      "text/plain": [
       "<function __main__.<lambda>(t)>"
      ]
     },
     "execution_count": 3,
     "metadata": {},
     "output_type": "execute_result"
    }
   ],
   "source": [
    "lambda t: t[1][0]"
   ]
  },
  {
   "cell_type": "code",
   "execution_count": 4,
   "id": "6e6f4818",
   "metadata": {},
   "outputs": [],
   "source": [
    "imena = [\"Ana\", \"Berta\", \"Cilka\", \"Dani\"]"
   ]
  },
  {
   "cell_type": "code",
   "execution_count": 6,
   "id": "60e2435d",
   "metadata": {},
   "outputs": [
    {
     "data": {
      "text/plain": [
       "['Ana', 'Berta', 'Cilka', 'Dani']"
      ]
     },
     "execution_count": 6,
     "metadata": {},
     "output_type": "execute_result"
    }
   ],
   "source": [
    "imena"
   ]
  },
  {
   "cell_type": "code",
   "execution_count": 7,
   "id": "f5533219",
   "metadata": {},
   "outputs": [],
   "source": [
    "koordinate = [('Piran', (0, 0)), ('Koper', (8, 2)),\n",
    "              ('Ilirska Bistrica', (49, 5)), ('Postojna', (46, 29)),\n",
    "              ('Nova Gorica', (2, 48)), ('Ajdovščina', (24, 42)),\n",
    "              ('Idrija', (34, 54)), ('Logatec', (48, 46)),\n",
    "              ('Cerknica', (60, 31)), ('Vrhnika', (57, 51)),\n",
    "              ('Žiri', (39, 60)), ('Ljubljana', (68, 61)),\n",
    "              ('Ribnica', (87, 26)), ('Kočevje', (95, 15)),\n",
    "              ('Grosuplje', (82, 49)), ('Litija', (95, 61)),\n",
    "              ('Kranj', (58, 82)), ('Kamnik', (78, 80)),\n",
    "              ('Škofja Loka', (54, 73)), ('Trbovlje', (112, 71)),\n",
    "              ('Novo mesto', (119, 32)), ('Krško', (162, 56)),\n",
    "              ('Celje', (129, 80)), ('Maribor', (156, 117)),\n",
    "              ('Velenje', (117, 94)), ('Slovenska Bistrica', (150, 97)),\n",
    "              ('Murska Sobota', (196, 138)), ('Ptuj', (173, 102)),\n",
    "              ('Ormož', (196, 100)), ('Ljutomer', (199, 112)),\n",
    "              ('Gornja Radgona', (184, 139)),\n",
    "              ('Jesenice', (36, 102)),\n",
    "              (\"Kot pri Dramlju\", (119, -6))]"
   ]
  },
  {
   "cell_type": "code",
   "execution_count": 8,
   "id": "01032ad6",
   "metadata": {},
   "outputs": [
    {
     "data": {
      "text/plain": [
       "[('Piran', (0, 0)),\n",
       " ('Koper', (8, 2)),\n",
       " ('Ilirska Bistrica', (49, 5)),\n",
       " ('Postojna', (46, 29)),\n",
       " ('Nova Gorica', (2, 48)),\n",
       " ('Ajdovščina', (24, 42)),\n",
       " ('Idrija', (34, 54)),\n",
       " ('Logatec', (48, 46)),\n",
       " ('Cerknica', (60, 31)),\n",
       " ('Vrhnika', (57, 51)),\n",
       " ('Žiri', (39, 60)),\n",
       " ('Ljubljana', (68, 61)),\n",
       " ('Ribnica', (87, 26)),\n",
       " ('Kočevje', (95, 15)),\n",
       " ('Grosuplje', (82, 49)),\n",
       " ('Litija', (95, 61)),\n",
       " ('Kranj', (58, 82)),\n",
       " ('Kamnik', (78, 80)),\n",
       " ('Škofja Loka', (54, 73)),\n",
       " ('Trbovlje', (112, 71)),\n",
       " ('Novo mesto', (119, 32)),\n",
       " ('Krško', (162, 56)),\n",
       " ('Celje', (129, 80)),\n",
       " ('Maribor', (156, 117)),\n",
       " ('Velenje', (117, 94)),\n",
       " ('Slovenska Bistrica', (150, 97)),\n",
       " ('Murska Sobota', (196, 138)),\n",
       " ('Ptuj', (173, 102)),\n",
       " ('Ormož', (196, 100)),\n",
       " ('Ljutomer', (199, 112)),\n",
       " ('Gornja Radgona', (184, 139)),\n",
       " ('Jesenice', (36, 102)),\n",
       " ('Kot pri Dramlju', (119, -6))]"
      ]
     },
     "execution_count": 8,
     "metadata": {},
     "output_type": "execute_result"
    }
   ],
   "source": [
    "koordinate"
   ]
  },
  {
   "cell_type": "code",
   "execution_count": null,
   "id": "7420ede6",
   "metadata": {},
   "outputs": [],
   "source": []
  },
  {
   "cell_type": "markdown",
   "id": "dc7bc171",
   "metadata": {},
   "source": [
    "SEZNAMI"
   ]
  },
  {
   "cell_type": "code",
   "execution_count": 9,
   "id": "1b5d24b8",
   "metadata": {},
   "outputs": [],
   "source": [
    "kord = {\n",
    "        'Piran': (0, 0),\n",
    "        'Koper': (8, 2),\n",
    "        'Ilirska Bistrica': (49, 5),\n",
    "        'Postojna': (46, 29),\n",
    "        'Nova Gorica': (2, 48),\n",
    "        'Ajdovščina': (24, 42),\n",
    "}"
   ]
  },
  {
   "cell_type": "code",
   "execution_count": 11,
   "id": "8492ef45",
   "metadata": {},
   "outputs": [
    {
     "data": {
      "text/plain": [
       "(0, 0)"
      ]
     },
     "execution_count": 11,
     "metadata": {},
     "output_type": "execute_result"
    }
   ],
   "source": [
    "kord[\"Piran\"]"
   ]
  },
  {
   "cell_type": "code",
   "execution_count": 12,
   "id": "3238ce77",
   "metadata": {},
   "outputs": [
    {
     "data": {
      "text/plain": [
       "True"
      ]
     },
     "execution_count": 12,
     "metadata": {},
     "output_type": "execute_result"
    }
   ],
   "source": [
    "\"Koper\" in kord"
   ]
  },
  {
   "cell_type": "code",
   "execution_count": 14,
   "id": "98e2c230",
   "metadata": {},
   "outputs": [],
   "source": [
    "del kord[\"Nova Gorica\"]"
   ]
  },
  {
   "cell_type": "code",
   "execution_count": 15,
   "id": "4af9dc58",
   "metadata": {},
   "outputs": [],
   "source": [
    "kord[\"Nova Gorica\"] = (2, 48)"
   ]
  },
  {
   "cell_type": "code",
   "execution_count": 16,
   "id": "3cdc7d2c",
   "metadata": {},
   "outputs": [
    {
     "name": "stdout",
     "output_type": "stream",
     "text": [
      "Piran\n",
      "Koper\n",
      "Ilirska Bistrica\n",
      "Postojna\n",
      "Ajdovščina\n",
      "Nova Gorica\n"
     ]
    }
   ],
   "source": [
    "for kraj in kord:\n",
    "    print(kraj)\n"
   ]
  },
  {
   "cell_type": "code",
   "execution_count": 17,
   "id": "7e0ce82e",
   "metadata": {},
   "outputs": [
    {
     "name": "stdout",
     "output_type": "stream",
     "text": [
      "(0, 0)\n",
      "(8, 2)\n",
      "(49, 5)\n",
      "(46, 29)\n",
      "(24, 42)\n",
      "(2, 48)\n"
     ]
    }
   ],
   "source": [
    "for xy in kord.values():\n",
    "    print(xy)"
   ]
  },
  {
   "cell_type": "code",
   "execution_count": 18,
   "id": "4a86bd2b",
   "metadata": {},
   "outputs": [
    {
     "name": "stdout",
     "output_type": "stream",
     "text": [
      "('Piran', (0, 0))\n",
      "('Koper', (8, 2))\n",
      "('Ilirska Bistrica', (49, 5))\n",
      "('Postojna', (46, 29))\n",
      "('Ajdovščina', (24, 42))\n",
      "('Nova Gorica', (2, 48))\n"
     ]
    }
   ],
   "source": [
    "for krajxy in kord.items():\n",
    "    print(krajxy)"
   ]
  },
  {
   "cell_type": "code",
   "execution_count": 24,
   "id": "bd93c019",
   "metadata": {},
   "outputs": [
    {
     "data": {
      "text/plain": [
       "{'Piran': (0, 0),\n",
       " 'Koper': (8, 2),\n",
       " 'Ilirska Bistrica': (49, 5),\n",
       " 'Postojna': (46, 29),\n",
       " 'Ajdovščina': (24, 42),\n",
       " 'Nova Gorica': (2, 48)}"
      ]
     },
     "execution_count": 24,
     "metadata": {},
     "output_type": "execute_result"
    }
   ],
   "source": [
    "kopijaKoord = kord.copy()\n",
    "kopijaKoord"
   ]
  },
  {
   "cell_type": "code",
   "execution_count": 23,
   "id": "87e38dc4",
   "metadata": {},
   "outputs": [
    {
     "data": {
      "text/plain": [
       "{}"
      ]
     },
     "execution_count": 23,
     "metadata": {},
     "output_type": "execute_result"
    }
   ],
   "source": [
    "kopijaKoord.clear()\n",
    "kopijaKoord"
   ]
  },
  {
   "cell_type": "code",
   "execution_count": 25,
   "id": "1566b671",
   "metadata": {},
   "outputs": [
    {
     "ename": "KeyError",
     "evalue": "'Metlika'",
     "output_type": "error",
     "traceback": [
      "\u001b[0;31m---------------------------------------------------------------------------\u001b[0m",
      "\u001b[0;31mKeyError\u001b[0m                                  Traceback (most recent call last)",
      "Cell \u001b[0;32mIn [25], line 1\u001b[0m\n\u001b[0;32m----> 1\u001b[0m x, y \u001b[38;5;241m=\u001b[39m \u001b[43mkord\u001b[49m\u001b[43m[\u001b[49m\u001b[38;5;124;43m\"\u001b[39;49m\u001b[38;5;124;43mMetlika\u001b[39;49m\u001b[38;5;124;43m\"\u001b[39;49m\u001b[43m]\u001b[49m\n",
      "\u001b[0;31mKeyError\u001b[0m: 'Metlika'"
     ]
    }
   ],
   "source": [
    "x, y = kord[\"Metlika\"]"
   ]
  },
  {
   "cell_type": "markdown",
   "id": "a74f6952",
   "metadata": {},
   "source": [
    "GET mislslis da kraja in in vedno vracas neko dafault verednost\n",
    "(42, 42) v tem primeru"
   ]
  },
  {
   "cell_type": "code",
   "execution_count": null,
   "id": "a0548a9d",
   "metadata": {},
   "outputs": [],
   "source": [
    "x, y = kord.get(\"Metlika\", (42, 42))"
   ]
  },
  {
   "cell_type": "code",
   "execution_count": 27,
   "id": "d3cf72d2",
   "metadata": {},
   "outputs": [
    {
     "data": {
      "text/plain": [
       "42"
      ]
     },
     "execution_count": 27,
     "metadata": {},
     "output_type": "execute_result"
    }
   ],
   "source": [
    "x"
   ]
  },
  {
   "cell_type": "code",
   "execution_count": 28,
   "id": "f2c5742e",
   "metadata": {},
   "outputs": [
    {
     "data": {
      "text/plain": [
       "42"
      ]
     },
     "execution_count": 28,
     "metadata": {},
     "output_type": "execute_result"
    }
   ],
   "source": [
    "y"
   ]
  },
  {
   "cell_type": "code",
   "execution_count": 29,
   "id": "fa217c45",
   "metadata": {},
   "outputs": [
    {
     "data": {
      "text/plain": [
       "(42, 42)"
      ]
     },
     "execution_count": 29,
     "metadata": {},
     "output_type": "execute_result"
    }
   ],
   "source": [
    "kord.setdefault(\"Metlika\", (42, 42))"
   ]
  },
  {
   "cell_type": "code",
   "execution_count": 31,
   "id": "9aed2c1a",
   "metadata": {},
   "outputs": [
    {
     "data": {
      "text/plain": [
       "(8, 2)"
      ]
     },
     "execution_count": 31,
     "metadata": {},
     "output_type": "execute_result"
    }
   ],
   "source": [
    "kord.setdefault(\"Koper\", (42, 42))"
   ]
  },
  {
   "cell_type": "code",
   "execution_count": 34,
   "id": "ae03e81f",
   "metadata": {},
   "outputs": [
    {
     "data": {
      "text/plain": [
       "{'Piran': (0, 0),\n",
       " 'Koper': (8, 2),\n",
       " 'Ilirska Bistrica': (49, 5),\n",
       " 'Postojna': (46, 29),\n",
       " 'Ajdovščina': (24, 42),\n",
       " 'Nova Gorica': (2, 48),\n",
       " 'Metlika': (42, 42)}"
      ]
     },
     "execution_count": 34,
     "metadata": {},
     "output_type": "execute_result"
    }
   ],
   "source": [
    "kord"
   ]
  },
  {
   "cell_type": "code",
   "execution_count": 35,
   "id": "94f41055",
   "metadata": {},
   "outputs": [
    {
     "data": {
      "text/plain": [
       "['Ana', 'Berta', 'Cilka', 'Dani']"
      ]
     },
     "execution_count": 35,
     "metadata": {},
     "output_type": "execute_result"
    }
   ],
   "source": [
    "imena"
   ]
  },
  {
   "cell_type": "code",
   "execution_count": 37,
   "id": "f582abd4",
   "metadata": {},
   "outputs": [
    {
     "data": {
      "text/plain": [
       "[1, 2, 3, 4]"
      ]
     },
     "execution_count": 37,
     "metadata": {},
     "output_type": "execute_result"
    }
   ],
   "source": [
    "teza"
   ]
  },
  {
   "cell_type": "code",
   "execution_count": 43,
   "id": "53acdf64",
   "metadata": {},
   "outputs": [
    {
     "data": {
      "text/plain": [
       "{'Ana': None, 'Berta': None, 'Cilka': None, 'Dani': None}"
      ]
     },
     "execution_count": 43,
     "metadata": {},
     "output_type": "execute_result"
    }
   ],
   "source": [
    "dict.fromkeys(imena, None)"
   ]
  },
  {
   "cell_type": "code",
   "execution_count": 38,
   "id": "37ef08bc",
   "metadata": {},
   "outputs": [
    {
     "data": {
      "text/plain": [
       "{'Ana': 1, 'Berta': 2, 'Cilka': 3, 'Dani': 4}"
      ]
     },
     "execution_count": 38,
     "metadata": {},
     "output_type": "execute_result"
    }
   ],
   "source": [
    "dict(zip(imena, teza))"
   ]
  },
  {
   "cell_type": "code",
   "execution_count": 39,
   "id": "bda43dc4",
   "metadata": {},
   "outputs": [
    {
     "data": {
      "text/plain": [
       "{'x': 6, 'y': 7}"
      ]
     },
     "execution_count": 39,
     "metadata": {},
     "output_type": "execute_result"
    }
   ],
   "source": [
    "dict(x=6, y=7)"
   ]
  },
  {
   "cell_type": "code",
   "execution_count": 48,
   "id": "e57d1b7a",
   "metadata": {},
   "outputs": [
    {
     "ename": "NameError",
     "evalue": "name 'append' is not defined",
     "output_type": "error",
     "traceback": [
      "\u001b[0;31m---------------------------------------------------------------------------\u001b[0m",
      "\u001b[0;31mNameError\u001b[0m                                 Traceback (most recent call last)",
      "Cell \u001b[0;32mIn [48], line 5\u001b[0m\n\u001b[1;32m      3\u001b[0m d \u001b[38;5;241m=\u001b[39m defaultdict()\n\u001b[1;32m      4\u001b[0m \u001b[38;5;28;01mfor\u001b[39;00m x, y \u001b[38;5;129;01min\u001b[39;00m t:\n\u001b[0;32m----> 5\u001b[0m     d[x] \u001b[38;5;241m=\u001b[39m \u001b[43mappend\u001b[49m(y)\n",
      "\u001b[0;31mNameError\u001b[0m: name 'append' is not defined"
     ]
    }
   ],
   "source": [
    "from collections import defaultdict\n",
    "t =[(1,2),(1,3),(1,4),(4,5),(4,5),(5,6)]\n",
    "d = defaultdict()\n",
    "for x, y in t:\n",
    "    d[x].append(y)"
   ]
  }
 ],
 "metadata": {
  "kernelspec": {
   "display_name": "Python 3 (ipykernel)",
   "language": "python",
   "name": "python3"
  },
  "language_info": {
   "codemirror_mode": {
    "name": "ipython",
    "version": 3
   },
   "file_extension": ".py",
   "mimetype": "text/x-python",
   "name": "python",
   "nbconvert_exporter": "python",
   "pygments_lexer": "ipython3",
   "version": "3.10.6"
  }
 },
 "nbformat": 4,
 "nbformat_minor": 5
}
