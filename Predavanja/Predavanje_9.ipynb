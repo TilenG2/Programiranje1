{
 "cells": [
  {
   "cell_type": "code",
   "execution_count": 2,
   "metadata": {},
   "outputs": [
    {
     "data": {
      "text/plain": [
       "'Danes sem videl 7 primerov medvedov'"
      ]
     },
     "execution_count": 2,
     "metadata": {},
     "output_type": "execute_result"
    }
   ],
   "source": [
    "n = 7 \n",
    "zival = \"medvedov\"\n",
    "\n",
    "\"Danes sem videl %i primerov %s\" % (n, zival)"
   ]
  },
  {
   "cell_type": "code",
   "execution_count": 5,
   "metadata": {},
   "outputs": [
    {
     "data": {
      "text/plain": [
       "'Danes sem videl nekja primerov medvedov'"
      ]
     },
     "execution_count": 5,
     "metadata": {},
     "output_type": "execute_result"
    }
   ],
   "source": [
    "\"Danes sem videl nekja primerov %s\" % zival"
   ]
  },
  {
   "cell_type": "code",
   "execution_count": 8,
   "metadata": {},
   "outputs": [
    {
     "data": {
      "text/plain": [
       "'Danes sem videl 7 primerov medvedov'"
      ]
     },
     "execution_count": 8,
     "metadata": {},
     "output_type": "execute_result"
    }
   ],
   "source": [
    "kdaj = \"Danes\"\n",
    "\"%(kdaj)s sem videl %(x)s primerov %(cesa)s\" %{\n",
    "    \"kdaj\": kdaj, \"cesa\": zival, \"x\": n\n",
    "}"
   ]
  },
  {
   "cell_type": "code",
   "execution_count": 10,
   "metadata": {},
   "outputs": [
    {
     "data": {
      "text/plain": [
       "'Danes sem videl 7 primerov medvedov'"
      ]
     },
     "execution_count": 10,
     "metadata": {},
     "output_type": "execute_result"
    }
   ],
   "source": [
    "\"{} sem videl {} primerov {}\".format(kdaj, n, zival)"
   ]
  },
  {
   "cell_type": "markdown",
   "metadata": {},
   "source": [
    "Tole je uporabno"
   ]
  },
  {
   "cell_type": "code",
   "execution_count": 12,
   "metadata": {},
   "outputs": [
    {
     "data": {
      "text/plain": [
       "'Danes sem videl 7 primerov medvedov'"
      ]
     },
     "execution_count": 12,
     "metadata": {},
     "output_type": "execute_result"
    }
   ],
   "source": [
    "f\"{kdaj} sem videl {n} primerov {zival}\""
   ]
  },
  {
   "cell_type": "code",
   "execution_count": 15,
   "metadata": {},
   "outputs": [],
   "source": [
    "s = [5, 2, 8]\n",
    "imena = [\"Ana\", \"Berta\", \"Dani\", \"Cilka\"]"
   ]
  },
  {
   "cell_type": "code",
   "execution_count": 17,
   "metadata": {},
   "outputs": [
    {
     "data": {
      "text/plain": [
       "'Danes so Ana, Berta, Dani, Cilka videle 15 medvedov'"
      ]
     },
     "execution_count": 17,
     "metadata": {},
     "output_type": "execute_result"
    }
   ],
   "source": [
    "f\"Danes so {', '.join(imena)} videle {sum(s)} medvedov\""
   ]
  },
  {
   "cell_type": "code",
   "execution_count": 19,
   "metadata": {},
   "outputs": [],
   "source": [
    "template = \"{} sem videl {} primerov {}\""
   ]
  },
  {
   "cell_type": "code",
   "execution_count": 21,
   "metadata": {},
   "outputs": [
    {
     "data": {
      "text/plain": [
       "'Danes sem videl 7 primerov medvedov'"
      ]
     },
     "execution_count": 21,
     "metadata": {},
     "output_type": "execute_result"
    }
   ],
   "source": [
    "template.format(kdaj, n, zival)"
   ]
  },
  {
   "cell_type": "code",
   "execution_count": 29,
   "metadata": {},
   "outputs": [
    {
     "name": "stdout",
     "output_type": "stream",
     "text": [
      "Danes sem videl 2 primerov Medvedov\n",
      "Vceraj sem videl 5 primerov Ziraf\n"
     ]
    }
   ],
   "source": [
    "for kdaj, n, zival in zip((\"Danes\", \"Vceraj\"), (2, 5), (\"Medvedov\", \"Ziraf\")):\n",
    "    print(template.format(kdaj, n, zival))"
   ]
  },
  {
   "cell_type": "code",
   "execution_count": 69,
   "metadata": {},
   "outputs": [],
   "source": [
    "teze = [45, 105, -5, 70]\n",
    "visine = [150, 200, 20, 170]"
   ]
  },
  {
   "cell_type": "code",
   "execution_count": 54,
   "metadata": {},
   "outputs": [
    {
     "name": "stdout",
     "output_type": "stream",
     "text": [
      "Ana           45   150  20.0\n",
      "Berta        105   200 26.25\n",
      "Dani           5    20 124.99999999999997\n",
      "Cilka         70   170 24.221453287197235\n"
     ]
    }
   ],
   "source": [
    "for ime, teza, visina in zip(imena, teze, visine):\n",
    "    print(f\"{ime:10} {teza:5} {visina:5} {teza/ (visina / 100) ** 2:5}\")"
   ]
  },
  {
   "cell_type": "code",
   "execution_count": 38,
   "metadata": {},
   "outputs": [
    {
     "name": "stdout",
     "output_type": "stream",
     "text": [
      "Ana           45   150    20\n",
      "Berta        105   200 26.25\n",
      "Dani           5    20   125\n",
      "Cilka         70   170 24.2215\n"
     ]
    }
   ],
   "source": [
    "for ime, teza, visina in zip(imena, teze, visine):\n",
    "    print(f\"{ime:10} {teza:5} {visina:5} {teza/ (visina / 100) ** 2:5g}\")"
   ]
  },
  {
   "cell_type": "code",
   "execution_count": 52,
   "metadata": {},
   "outputs": [],
   "source": [
    "bmi = teze[3]/ (visine[3] / 100) ** 2"
   ]
  },
  {
   "cell_type": "code",
   "execution_count": 55,
   "metadata": {},
   "outputs": [
    {
     "data": {
      "text/plain": [
       "'24.2215'"
      ]
     },
     "execution_count": 55,
     "metadata": {},
     "output_type": "execute_result"
    }
   ],
   "source": [
    "f\"{bmi:g}\""
   ]
  },
  {
   "cell_type": "code",
   "execution_count": 57,
   "metadata": {},
   "outputs": [
    {
     "name": "stdout",
     "output_type": "stream",
     "text": [
      "Ana         45     150  20.0\n",
      "Berta       105    200 26.25\n",
      "Dani         5      20 124.99999999999997\n",
      "Cilka       70     170 24.221453287197235\n"
     ]
    }
   ],
   "source": [
    "for ime, teza, visina in zip(imena, teze, visine):\n",
    "    print(f\"{ime:<10} {teza:5} {visina:5} {teza/ (visina / 100) ** 2:5}\")"
   ]
  },
  {
   "cell_type": "code",
   "execution_count": 68,
   "metadata": {},
   "outputs": [
    {
     "name": "stdout",
     "output_type": "stream",
     "text": [
      "Ana__________45   150  20.0\n",
      "Berta_______105   200 26.25\n",
      "Dani__________5    20 124.99999999999997\n",
      "Cilka________70   170 24.221453287197235\n"
     ]
    }
   ],
   "source": [
    "for ime, teza, visina in zip(imena, teze, visine):\n",
    "    print(f\"{ime:_<10}{teza:_>5} {visina:5} {teza/ (visina / 100) ** 2:5}\")"
   ]
  },
  {
   "cell_type": "code",
   "execution_count": 74,
   "metadata": {},
   "outputs": [
    {
     "name": "stdout",
     "output_type": "stream",
     "text": [
      "Ana        +0045   150  20.0\n",
      "Berta      +0105   200 26.25\n",
      "Dani       -0005    20 -124.99999999999997\n",
      "Cilka      +0070   170 24.221453287197235\n"
     ]
    }
   ],
   "source": [
    "for ime, teza, visina in zip(imena, teze, visine):\n",
    "    print(f\"{ime:<10} {teza:+05} {visina:5} {teza/ (visina / 100) ** 2:5}\")"
   ]
  },
  {
   "cell_type": "markdown",
   "metadata": {},
   "source": [
    "https://docs.python.org/3/library/string.html#formatspec"
   ]
  },
  {
   "cell_type": "code",
   "execution_count": 77,
   "metadata": {},
   "outputs": [
    {
     "data": {
      "text/plain": [
       "'bc614e'"
      ]
     },
     "execution_count": 77,
     "metadata": {},
     "output_type": "execute_result"
    }
   ],
   "source": [
    "teza = 12345678\n",
    "f\"{teza:x}\""
   ]
  },
  {
   "cell_type": "code",
   "execution_count": 82,
   "metadata": {},
   "outputs": [
    {
     "data": {
      "text/plain": [
       "'00000000101111000110000101001110'"
      ]
     },
     "execution_count": 82,
     "metadata": {},
     "output_type": "execute_result"
    }
   ],
   "source": [
    "teza = 12345678\n",
    "f\"{teza:032b}\""
   ]
  },
  {
   "cell_type": "code",
   "execution_count": 84,
   "metadata": {},
   "outputs": [
    {
     "data": {
      "text/plain": [
       "12345678"
      ]
     },
     "execution_count": 84,
     "metadata": {},
     "output_type": "execute_result"
    }
   ],
   "source": [
    "int('00000000101111000110000101001110', 2)"
   ]
  },
  {
   "cell_type": "code",
   "execution_count": 90,
   "metadata": {},
   "outputs": [
    {
     "name": "stdout",
     "output_type": "stream",
     "text": [
      "Merkur\n",
      "\n",
      "Venera\n",
      "\n",
      "Zemlja\n",
      "\n",
      "Mars\n",
      "\n",
      "Jupiter\n",
      "\n",
      "Saturn\n",
      "\n",
      "Uran\n",
      "\n",
      "Neptun\n",
      "\n"
     ]
    }
   ],
   "source": [
    "for vrstica in open(\"planeti.txt\"):\n",
    "    print(vrstica)"
   ]
  },
  {
   "cell_type": "code",
   "execution_count": 92,
   "metadata": {},
   "outputs": [
    {
     "name": "stdout",
     "output_type": "stream",
     "text": [
      "Merkur\n",
      "Venera\n",
      "Zemlja\n",
      "Mars\n",
      "Jupiter\n",
      "Saturn\n",
      "Uran\n",
      "Neptun\n"
     ]
    }
   ],
   "source": [
    "for vrstica in open(\"planeti.txt\"):\n",
    "    vrstica = vrstica.strip()\n",
    "    print(vrstica)"
   ]
  },
  {
   "cell_type": "code",
   "execution_count": 95,
   "metadata": {},
   "outputs": [
    {
     "name": "stdout",
     "output_type": "stream",
     "text": [
      "Merkur\n",
      "Venera\n",
      "Zemlja\n",
      "Mars\n",
      "Jupiter\n",
      "Saturn\n",
      "Uran\n",
      "Neptun\n"
     ]
    }
   ],
   "source": [
    "for vrstica in map(str.strip, open(\"planeti.txt\")):\n",
    "    print(vrstica)"
   ]
  },
  {
   "cell_type": "code",
   "execution_count": 97,
   "metadata": {},
   "outputs": [],
   "source": [
    "file = open(\"planeti.txt\")"
   ]
  },
  {
   "cell_type": "code",
   "execution_count": 98,
   "metadata": {},
   "outputs": [
    {
     "data": {
      "text/plain": [
       "'Merkur\\n'"
      ]
     },
     "execution_count": 98,
     "metadata": {},
     "output_type": "execute_result"
    }
   ],
   "source": [
    "file.readline()"
   ]
  },
  {
   "cell_type": "code",
   "execution_count": 99,
   "metadata": {},
   "outputs": [
    {
     "data": {
      "text/plain": [
       "'Venera\\n'"
      ]
     },
     "execution_count": 99,
     "metadata": {},
     "output_type": "execute_result"
    }
   ],
   "source": [
    "file.readline()"
   ]
  },
  {
   "cell_type": "code",
   "execution_count": 100,
   "metadata": {},
   "outputs": [
    {
     "data": {
      "text/plain": [
       "'Zemlja\\n'"
      ]
     },
     "execution_count": 100,
     "metadata": {},
     "output_type": "execute_result"
    }
   ],
   "source": [
    "file.readline()"
   ]
  },
  {
   "cell_type": "code",
   "execution_count": 101,
   "metadata": {},
   "outputs": [
    {
     "data": {
      "text/plain": [
       "'Mars\\n'"
      ]
     },
     "execution_count": 101,
     "metadata": {},
     "output_type": "execute_result"
    }
   ],
   "source": [
    "file.readline()"
   ]
  },
  {
   "cell_type": "code",
   "execution_count": 102,
   "metadata": {},
   "outputs": [
    {
     "data": {
      "text/plain": [
       "['Jupiter\\n', 'Saturn\\n', 'Uran\\n', 'Neptun\\n']"
      ]
     },
     "execution_count": 102,
     "metadata": {},
     "output_type": "execute_result"
    }
   ],
   "source": [
    "file.readlines()"
   ]
  },
  {
   "cell_type": "code",
   "execution_count": 109,
   "metadata": {},
   "outputs": [],
   "source": [
    "file = open(\"planeti.txt\")"
   ]
  },
  {
   "cell_type": "code",
   "execution_count": 108,
   "metadata": {},
   "outputs": [
    {
     "data": {
      "text/plain": [
       "['Jupiter\\n',\n",
       " 'Mars\\n',\n",
       " 'Merkur\\n',\n",
       " 'Neptun\\n',\n",
       " 'Saturn\\n',\n",
       " 'Uran\\n',\n",
       " 'Venera\\n',\n",
       " 'Zemlja\\n']"
      ]
     },
     "execution_count": 108,
     "metadata": {},
     "output_type": "execute_result"
    }
   ],
   "source": [
    "vrstica = sorted(file.readlines())\n",
    "vrstica"
   ]
  },
  {
   "cell_type": "code",
   "execution_count": 110,
   "metadata": {},
   "outputs": [
    {
     "data": {
      "text/plain": [
       "'Merkur\\nVen'"
      ]
     },
     "execution_count": 110,
     "metadata": {},
     "output_type": "execute_result"
    }
   ],
   "source": [
    "file.read(10)"
   ]
  },
  {
   "cell_type": "code",
   "execution_count": 114,
   "metadata": {},
   "outputs": [
    {
     "name": "stdout",
     "output_type": "stream",
     "text": [
      "              Merkur <----> Venera\n",
      "              Zemlja <----> Mars\n",
      "             Jupiter <----> Saturn\n",
      "                Uran <----> Neptun\n"
     ]
    }
   ],
   "source": [
    "file = open(\"planeti.txt\")\n",
    "for planet1 in file:\n",
    "    planet2 = file.readline().strip()\n",
    "    print(f\"{planet1.strip():>20} <----> {planet2}\")"
   ]
  },
  {
   "cell_type": "code",
   "execution_count": 122,
   "metadata": {},
   "outputs": [],
   "source": [
    "f = open(\"bogovi.txt\", \"w\")"
   ]
  },
  {
   "cell_type": "code",
   "execution_count": 123,
   "metadata": {},
   "outputs": [
    {
     "data": {
      "text/plain": [
       "5"
      ]
     },
     "execution_count": 123,
     "metadata": {},
     "output_type": "execute_result"
    }
   ],
   "source": [
    "f.write(\"ime\\n\")\n",
    "f.write(\"ime2\\n\")\n",
    "f.write(\"ime3\\n\")"
   ]
  },
  {
   "cell_type": "code",
   "execution_count": 124,
   "metadata": {},
   "outputs": [],
   "source": [
    "f.close()"
   ]
  },
  {
   "cell_type": "code",
   "execution_count": null,
   "metadata": {},
   "outputs": [],
   "source": []
  }
 ],
 "metadata": {
  "kernelspec": {
   "display_name": "Python 3 (ipykernel)",
   "language": "python",
   "name": "python3"
  },
  "language_info": {
   "codemirror_mode": {
    "name": "ipython",
    "version": 3
   },
   "file_extension": ".py",
   "mimetype": "text/x-python",
   "name": "python",
   "nbconvert_exporter": "python",
   "pygments_lexer": "ipython3",
   "version": "3.10.6"
  }
 },
 "nbformat": 4,
 "nbformat_minor": 2
}
